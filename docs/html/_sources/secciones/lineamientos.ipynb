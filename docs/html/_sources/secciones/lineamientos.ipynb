{
 "cells": [
  {
   "cell_type": "markdown",
   "id": "14b0681f",
   "metadata": {},
   "source": [
    "﻿# Lineamientos  \n",
    "\n",
    "Este trabajo busca documentar el proceso de imputación de datos en Python, siguiendo un flujo estructurado:  \n",
    "\n",
    "1. Exploración inicial de las variables.  \n",
    "2. Análisis de nulos.  \n",
    "3. Clasificación del mecanismo de ausencia.  \n",
    "4. Aplicación de técnicas de imputación.  \n",
    "5. Evaluación de resultados.  \n",
    "6. Conclusiones.  "
   ]
  }
 ],
 "metadata": {
  "jupytext": {
   "cell_metadata_filter": "-all",
   "main_language": "python",
   "notebook_metadata_filter": "-all"
  }
 },
 "nbformat": 4,
 "nbformat_minor": 5
}
