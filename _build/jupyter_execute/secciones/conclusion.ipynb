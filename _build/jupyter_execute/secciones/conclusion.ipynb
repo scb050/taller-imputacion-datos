{
 "cells": [
  {
   "cell_type": "markdown",
   "id": "4035c7d5",
   "metadata": {},
   "source": [
    "﻿# Conclusiones del proyecto de imputación\n",
    "\n",
    "En este proyecto se abordó el análisis, clasificación y tratamiento de valores faltantes en un dataset mixto (numérico y categórico).  \n"
   ]
  },
  {
   "cell_type": "markdown",
   "id": "dbad7c0f",
   "metadata": {},
   "source": [
    "## Principales hallazgos\n",
    "\n",
    "- La mayoría de los valores faltantes siguen un **patrón MAR (Missing At Random)**, lo que significa que su ausencia puede explicarse a partir de otras variables observadas.  \n",
    "- Variables críticas como **puntuacion_credito**, **estado_civil** y **gasto_mensual** presentan los mayores porcentajes de nulos (50%, 35% y 25% respectivamente).  \n",
    "- Las técnicas de imputación aplicadas fueron:  \n",
    "  - **Numéricas**: media, mediana, KNN e Iterative.  \n",
    "  - **Categóricas**: moda, hot-deck y KNN categórico.  \n",
    "- En la evaluación:  \n",
    "  - **KNN** demostró ser el método más robusto para las numéricas, preservando mejor la distribución.  \n",
    "  - En las categóricas, **moda** y **hot-deck** fueron simples y efectivas.  \n",
    "  - Las pruebas estadísticas (Shapiro, KS, T-test y Chi²) confirmaron que en la mayoría de los casos las imputaciones no distorsionaron de forma significativa las distribuciones originales.  \n"
   ]
  },
  {
   "cell_type": "markdown",
   "id": "7916b7af",
   "metadata": {},
   "source": [
    "## Conclusión final\n",
    "\n",
    "La imputación permitió **recuperar información sin introducir sesgos graves**, mejorando la calidad del dataset y dejándolo listo para análisis posteriores.  \n",
    "\n",
    "Se recomienda:  \n",
    "1. Usar **KNN** en variables numéricas clave.  \n",
    "2. Aplicar **moda** o **hot-deck** en categóricas.  \n",
    "3. Documentar siempre los porcentajes de nulos y las técnicas usadas para asegurar la transparencia en el análisis.  \n",
    "\n"
   ]
  }
 ],
 "metadata": {
  "jupytext": {
   "cell_metadata_filter": "-all",
   "main_language": "python",
   "notebook_metadata_filter": "-all"
  }
 },
 "nbformat": 4,
 "nbformat_minor": 5
}